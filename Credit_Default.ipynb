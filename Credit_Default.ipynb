{
 "cells": [
  {
   "cell_type": "markdown",
   "id": "e1630771",
   "metadata": {},
   "source": [
    "# Credit Default\n",
    "\n",
    "* [Подключение библиотек и скриптов](#libraries)\n",
    "* [Пути к файлам](#filed)\n",
    "* [Загрузка данных](#loading)\n",
    "* [Обзор данных](#data)\n",
    "* [Обработка выбросов](#outlier)\n",
    "* [Обработка пропусков](#omission)\n",
    "* [Функция подготовки исходных данных](#preprocessing)\n",
    "* [Построение новых признаков](#new_features)\n",
    "* [Функция построения новых признаков](#generator)\n",
    "* [Отбор признаков](#feature_selection)\n",
    "* [Разбиение на train и test](#train_test)\n",
    "* [Построение модели](#model)\n",
    "* [Прогнозирование на тестовом датасете](#prediction)\n"
   ]
  },
  {
   "cell_type": "markdown",
   "id": "6852b7b6",
   "metadata": {},
   "source": [
    "## Подключение библиотек и скриптов<a class='anchor' id='libraries'></a>"
   ]
  },
  {
   "cell_type": "code",
   "execution_count": 1,
   "id": "00c9cbae",
   "metadata": {},
   "outputs": [],
   "source": [
    "#1. Основные библиотеки\n",
    "import numpy as np\n",
    "import pandas as pd\n",
    "import random\n",
    "import matplotlib\n",
    "import matplotlib.pyplot as plt\n",
    "import seaborn as sns\n",
    "%matplotlib inline\n",
    "\n",
    "#2. Разделение датачета\n",
    "from sklearn.model_selection import train_test_split\n",
    "\n",
    "#3. Метрики качества\n",
    "from sklearn.metrics import classification_report, f1_score, precision_score, recall_score\n",
    "\n",
    "#4.Используемая модель\n",
    "import catboost as catb\n",
    "\n",
    "import warnings\n",
    "warnings.filterwarnings('ignore')\n",
    "\n",
    "matplotlib.rcParams.update({'font.size': 14})"
   ]
  },
  {
   "cell_type": "code",
   "execution_count": 2,
   "id": "de03d5d3",
   "metadata": {},
   "outputs": [],
   "source": [
    "def get_classification_report(y_train_true, y_train_pred, y_valid_true, y_valid_pred):\n",
    "    print('TRAIN\\n\\n' + classification_report(y_train_true, y_train_pred))\n",
    "    print('VALID\\n\\n' + classification_report(y_valid_true, y_valid_pred))\n",
    "    print('CONFUSION MATRIX\\n')\n",
    "    print(pd.crosstab(y_valid_true, y_valid_pred))"
   ]
  },
  {
   "cell_type": "code",
   "execution_count": 3,
   "id": "c8932ef7",
   "metadata": {},
   "outputs": [],
   "source": [
    "def evaluate_preds(model, X_train, X_valid, y_train, y_valid):\n",
    "    y_train_pred = model.predict(X_train)\n",
    "    y_valid_pred = model.predict(X_valid)\n",
    "    print(\"TRAIN\\n\", round(f1_score(y_train, y_train_pred), 3))\n",
    "    print(\"TEST\\n\", round(f1_score(y_valid, y_valid_pred), 3))\n",
    "    get_classification_report(y_train, y_train_pred, y_valid, y_valid_pred)"
   ]
  },
  {
   "cell_type": "code",
   "execution_count": 4,
   "id": "1d1097d5",
   "metadata": {},
   "outputs": [],
   "source": [
    "def show_feature_importances(feature_names, feature_importances, get_top=None):\n",
    "    feature_importances = pd.DataFrame({'feature': feature_names, 'importance': feature_importances})\n",
    "    feature_importances = feature_importances.sort_values('importance', ascending=False)\n",
    "       \n",
    "    plt.figure(figsize = (20, len(feature_importances) * 0.355))\n",
    "    \n",
    "    sns.barplot(feature_importances['importance'], feature_importances['feature'])\n",
    "    \n",
    "    plt.xlabel('Importance')\n",
    "    plt.title('Importance of features')\n",
    "    plt.show()\n",
    "    \n",
    "    if get_top is not None:\n",
    "        return feature_importances['feature'][:get_top].tolist()"
   ]
  },
  {
   "cell_type": "code",
   "execution_count": 5,
   "id": "d2678972",
   "metadata": {},
   "outputs": [],
   "source": [
    "def reduce_mem_usage(df):\n",
    "    \"\"\" iterate through all the columns of a dataframe and modify the data type\n",
    "        to reduce memory usage.        \n",
    "    \"\"\"\n",
    "    start_mem = df.memory_usage().sum() / 1024**2\n",
    "    print('Memory usage of dataframe is {:.2f} MB'.format(start_mem))\n",
    "    \n",
    "    for col in df.columns:\n",
    "        col_type = df[col].dtype\n",
    "        \n",
    "        if col_type != object:\n",
    "            c_min = df[col].min()\n",
    "            c_max = df[col].max()\n",
    "            if str(col_type)[:3] == 'int':\n",
    "                if c_min > np.iinfo(np.int8).min and c_max < np.iinfo(np.int8).max:\n",
    "                    df[col] = df[col].astype(np.int8)\n",
    "                elif c_min > np.iinfo(np.int16).min and c_max < np.iinfo(np.int16).max:\n",
    "                    df[col] = df[col].astype(np.int16)\n",
    "                elif c_min > np.iinfo(np.int32).min and c_max < np.iinfo(np.int32).max:\n",
    "                    df[col] = df[col].astype(np.int32)\n",
    "                elif c_min > np.iinfo(np.int64).min and c_max < np.iinfo(np.int64).max:\n",
    "                    df[col] = df[col].astype(np.int64)  \n",
    "            else:\n",
    "                if c_min > np.finfo(np.float32).min and c_max < np.finfo(np.float32).max:\n",
    "                    df[col] = df[col].astype(np.float32)\n",
    "                else:\n",
    "                    df[col] = df[col].astype(np.float64)\n",
    "        else:\n",
    "            df[col] = df[col].astype('object')\n",
    "\n",
    "    end_mem = df.memory_usage().sum() / 1024**2\n",
    "    print('Memory usage after optimization is: {:.2f} MB'.format(end_mem))\n",
    "    print('Decreased by {:.1f}%'.format(100 * (start_mem - end_mem) / start_mem))\n",
    "    \n",
    "    return df"
   ]
  },
  {
   "cell_type": "markdown",
   "id": "f91262ee",
   "metadata": {},
   "source": [
    "## Пути к файлам <a class='anchor' id='files'></a>"
   ]
  },
  {
   "cell_type": "code",
   "execution_count": 6,
   "id": "beb79104",
   "metadata": {},
   "outputs": [],
   "source": [
    "TRAIN_DATASET_PATH = 'train.csv'\n",
    "TEST_DATASET_PATH = 'test.csv'\n",
    "SUBMISSION_DATASET_PATH = 'sample_submission.csv'"
   ]
  },
  {
   "cell_type": "markdown",
   "id": "7b9798ea",
   "metadata": {},
   "source": [
    "## Загрузка данных <a class='anchor' id='loading'></a>"
   ]
  },
  {
   "cell_type": "markdown",
   "id": "c8cc0e0c",
   "metadata": {},
   "source": [
    "### Описание датасета:\n",
    "\n",
    "* **Home Ownership** - домовладение\n",
    "* **Annual Income** - годовой доход\n",
    "* **Years in current job** - количество лет на текущем месте работы\n",
    "* **Tax Liens** - налоговые обременения\n",
    "* **Number of Open Accounts** - количество открытых счетов\n",
    "* **Years of Credit History** - количество лет кредитной истории\n",
    "* **Maximum Open Credit** - наибольший открытый кредит (максимальная сумма, которая когда-либо была доступна клиенту)\n",
    "* **Number of Credit Problems** - количество проблем с кредитом\n",
    "* **Months since last delinquent** - количество месяцев с последней просрочки платежа\n",
    "* **Bankruptcies** - банкротства\n",
    "* **Purpose** - цель кредита\n",
    "* **Term** - срок кредита\n",
    "* **Current Loan Amount** - текущая сумма кредита (сумма, которую еще предстоит выплатить клиенту)\n",
    "* **Current Credit Balance** - текущий кредитный баланс (сумма, которую может тратить клиент с кредитного счета)\n",
    "* **Monthly Debt** - ежемесячный долг\n",
    "* **Credit Score** - баллы кредитного рейтинга\n",
    "* **Credit Default** - факт невыполнения кредитных обязательств (0 - погашен вовремя, 1 - просрочка)"
   ]
  },
  {
   "cell_type": "code",
   "execution_count": 7,
   "id": "aedc1a71",
   "metadata": {},
   "outputs": [
    {
     "name": "stdout",
     "output_type": "stream",
     "text": [
      "Memory usage of dataframe is 0.97 MB\n",
      "Memory usage after optimization is: 0.58 MB\n",
      "Decreased by 40.4%\n"
     ]
    }
   ],
   "source": [
    "train_df = pd.read_csv(TRAIN_DATASET_PATH)\n",
    "train_df = reduce_mem_usage(train_df)"
   ]
  },
  {
   "cell_type": "code",
   "execution_count": 8,
   "id": "5accdf04",
   "metadata": {},
   "outputs": [
    {
     "data": {
      "text/html": [
       "<div>\n",
       "<style scoped>\n",
       "    .dataframe tbody tr th:only-of-type {\n",
       "        vertical-align: middle;\n",
       "    }\n",
       "\n",
       "    .dataframe tbody tr th {\n",
       "        vertical-align: top;\n",
       "    }\n",
       "\n",
       "    .dataframe thead th {\n",
       "        text-align: right;\n",
       "    }\n",
       "</style>\n",
       "<table border=\"1\" class=\"dataframe\">\n",
       "  <thead>\n",
       "    <tr style=\"text-align: right;\">\n",
       "      <th></th>\n",
       "      <th>Home Ownership</th>\n",
       "      <th>Annual Income</th>\n",
       "      <th>Years in current job</th>\n",
       "      <th>Tax Liens</th>\n",
       "      <th>Number of Open Accounts</th>\n",
       "      <th>Years of Credit History</th>\n",
       "      <th>Maximum Open Credit</th>\n",
       "      <th>Number of Credit Problems</th>\n",
       "      <th>Months since last delinquent</th>\n",
       "      <th>Bankruptcies</th>\n",
       "      <th>Purpose</th>\n",
       "      <th>Term</th>\n",
       "      <th>Current Loan Amount</th>\n",
       "      <th>Current Credit Balance</th>\n",
       "      <th>Monthly Debt</th>\n",
       "      <th>Credit Score</th>\n",
       "      <th>Credit Default</th>\n",
       "    </tr>\n",
       "  </thead>\n",
       "  <tbody>\n",
       "    <tr>\n",
       "      <th>0</th>\n",
       "      <td>Own Home</td>\n",
       "      <td>482087.0</td>\n",
       "      <td>NaN</td>\n",
       "      <td>0.0</td>\n",
       "      <td>11.0</td>\n",
       "      <td>26.299999</td>\n",
       "      <td>685960.0</td>\n",
       "      <td>1.0</td>\n",
       "      <td>NaN</td>\n",
       "      <td>1.0</td>\n",
       "      <td>debt consolidation</td>\n",
       "      <td>Short Term</td>\n",
       "      <td>100000000.0</td>\n",
       "      <td>47386.0</td>\n",
       "      <td>7914.0</td>\n",
       "      <td>749.0</td>\n",
       "      <td>0</td>\n",
       "    </tr>\n",
       "    <tr>\n",
       "      <th>1</th>\n",
       "      <td>Own Home</td>\n",
       "      <td>1025487.0</td>\n",
       "      <td>10+ years</td>\n",
       "      <td>0.0</td>\n",
       "      <td>15.0</td>\n",
       "      <td>15.300000</td>\n",
       "      <td>1181730.0</td>\n",
       "      <td>0.0</td>\n",
       "      <td>NaN</td>\n",
       "      <td>0.0</td>\n",
       "      <td>debt consolidation</td>\n",
       "      <td>Long Term</td>\n",
       "      <td>264968.0</td>\n",
       "      <td>394972.0</td>\n",
       "      <td>18373.0</td>\n",
       "      <td>737.0</td>\n",
       "      <td>1</td>\n",
       "    </tr>\n",
       "    <tr>\n",
       "      <th>2</th>\n",
       "      <td>Home Mortgage</td>\n",
       "      <td>751412.0</td>\n",
       "      <td>8 years</td>\n",
       "      <td>0.0</td>\n",
       "      <td>11.0</td>\n",
       "      <td>35.000000</td>\n",
       "      <td>1182434.0</td>\n",
       "      <td>0.0</td>\n",
       "      <td>NaN</td>\n",
       "      <td>0.0</td>\n",
       "      <td>debt consolidation</td>\n",
       "      <td>Short Term</td>\n",
       "      <td>100000000.0</td>\n",
       "      <td>308389.0</td>\n",
       "      <td>13651.0</td>\n",
       "      <td>742.0</td>\n",
       "      <td>0</td>\n",
       "    </tr>\n",
       "    <tr>\n",
       "      <th>3</th>\n",
       "      <td>Own Home</td>\n",
       "      <td>805068.0</td>\n",
       "      <td>6 years</td>\n",
       "      <td>0.0</td>\n",
       "      <td>8.0</td>\n",
       "      <td>22.500000</td>\n",
       "      <td>147400.0</td>\n",
       "      <td>1.0</td>\n",
       "      <td>NaN</td>\n",
       "      <td>1.0</td>\n",
       "      <td>debt consolidation</td>\n",
       "      <td>Short Term</td>\n",
       "      <td>121396.0</td>\n",
       "      <td>95855.0</td>\n",
       "      <td>11338.0</td>\n",
       "      <td>694.0</td>\n",
       "      <td>0</td>\n",
       "    </tr>\n",
       "    <tr>\n",
       "      <th>4</th>\n",
       "      <td>Rent</td>\n",
       "      <td>776264.0</td>\n",
       "      <td>8 years</td>\n",
       "      <td>0.0</td>\n",
       "      <td>13.0</td>\n",
       "      <td>13.600000</td>\n",
       "      <td>385836.0</td>\n",
       "      <td>1.0</td>\n",
       "      <td>NaN</td>\n",
       "      <td>0.0</td>\n",
       "      <td>debt consolidation</td>\n",
       "      <td>Short Term</td>\n",
       "      <td>125840.0</td>\n",
       "      <td>93309.0</td>\n",
       "      <td>7180.0</td>\n",
       "      <td>719.0</td>\n",
       "      <td>0</td>\n",
       "    </tr>\n",
       "  </tbody>\n",
       "</table>\n",
       "</div>"
      ],
      "text/plain": [
       "  Home Ownership  Annual Income Years in current job  Tax Liens  \\\n",
       "0       Own Home       482087.0                  NaN        0.0   \n",
       "1       Own Home      1025487.0            10+ years        0.0   \n",
       "2  Home Mortgage       751412.0              8 years        0.0   \n",
       "3       Own Home       805068.0              6 years        0.0   \n",
       "4           Rent       776264.0              8 years        0.0   \n",
       "\n",
       "   Number of Open Accounts  Years of Credit History  Maximum Open Credit  \\\n",
       "0                     11.0                26.299999             685960.0   \n",
       "1                     15.0                15.300000            1181730.0   \n",
       "2                     11.0                35.000000            1182434.0   \n",
       "3                      8.0                22.500000             147400.0   \n",
       "4                     13.0                13.600000             385836.0   \n",
       "\n",
       "   Number of Credit Problems  Months since last delinquent  Bankruptcies  \\\n",
       "0                        1.0                           NaN           1.0   \n",
       "1                        0.0                           NaN           0.0   \n",
       "2                        0.0                           NaN           0.0   \n",
       "3                        1.0                           NaN           1.0   \n",
       "4                        1.0                           NaN           0.0   \n",
       "\n",
       "              Purpose        Term  Current Loan Amount  \\\n",
       "0  debt consolidation  Short Term          100000000.0   \n",
       "1  debt consolidation   Long Term             264968.0   \n",
       "2  debt consolidation  Short Term          100000000.0   \n",
       "3  debt consolidation  Short Term             121396.0   \n",
       "4  debt consolidation  Short Term             125840.0   \n",
       "\n",
       "   Current Credit Balance  Monthly Debt  Credit Score  Credit Default  \n",
       "0                 47386.0        7914.0         749.0               0  \n",
       "1                394972.0       18373.0         737.0               1  \n",
       "2                308389.0       13651.0         742.0               0  \n",
       "3                 95855.0       11338.0         694.0               0  \n",
       "4                 93309.0        7180.0         719.0               0  "
      ]
     },
     "execution_count": 8,
     "metadata": {},
     "output_type": "execute_result"
    }
   ],
   "source": [
    "train_df.head()"
   ]
  },
  {
   "cell_type": "code",
   "execution_count": 9,
   "id": "dfda395b",
   "metadata": {},
   "outputs": [
    {
     "data": {
      "text/plain": [
       "(7500, 17)"
      ]
     },
     "execution_count": 9,
     "metadata": {},
     "output_type": "execute_result"
    }
   ],
   "source": [
    "train_df.shape"
   ]
  },
  {
   "cell_type": "code",
   "execution_count": 10,
   "id": "02763bbc",
   "metadata": {},
   "outputs": [
    {
     "name": "stdout",
     "output_type": "stream",
     "text": [
      "<class 'pandas.core.frame.DataFrame'>\n",
      "RangeIndex: 7500 entries, 0 to 7499\n",
      "Data columns (total 17 columns):\n",
      " #   Column                        Non-Null Count  Dtype  \n",
      "---  ------                        --------------  -----  \n",
      " 0   Home Ownership                7500 non-null   object \n",
      " 1   Annual Income                 5943 non-null   float32\n",
      " 2   Years in current job          7129 non-null   object \n",
      " 3   Tax Liens                     7500 non-null   float32\n",
      " 4   Number of Open Accounts       7500 non-null   float32\n",
      " 5   Years of Credit History       7500 non-null   float32\n",
      " 6   Maximum Open Credit           7500 non-null   float32\n",
      " 7   Number of Credit Problems     7500 non-null   float32\n",
      " 8   Months since last delinquent  3419 non-null   float32\n",
      " 9   Bankruptcies                  7486 non-null   float32\n",
      " 10  Purpose                       7500 non-null   object \n",
      " 11  Term                          7500 non-null   object \n",
      " 12  Current Loan Amount           7500 non-null   float32\n",
      " 13  Current Credit Balance        7500 non-null   float32\n",
      " 14  Monthly Debt                  7500 non-null   float32\n",
      " 15  Credit Score                  5943 non-null   float32\n",
      " 16  Credit Default                7500 non-null   int8   \n",
      "dtypes: float32(12), int8(1), object(4)\n",
      "memory usage: 593.4+ KB\n"
     ]
    }
   ],
   "source": [
    "train_df.info()"
   ]
  },
  {
   "cell_type": "markdown",
   "id": "4a88118e",
   "metadata": {},
   "source": [
    "## Обзор данных <a class='anchor' id='data'></a>"
   ]
  },
  {
   "cell_type": "markdown",
   "id": "3df71359",
   "metadata": {},
   "source": [
    "**Обзор целевой переменной**"
   ]
  },
  {
   "cell_type": "code",
   "execution_count": 11,
   "id": "cba9750c",
   "metadata": {},
   "outputs": [
    {
     "data": {
      "text/plain": [
       "0    5387\n",
       "1    2113\n",
       "Name: Credit Default, dtype: int64"
      ]
     },
     "execution_count": 11,
     "metadata": {},
     "output_type": "execute_result"
    }
   ],
   "source": [
    "train_df['Credit Default'].value_counts()"
   ]
  },
  {
   "cell_type": "markdown",
   "id": "9939f531",
   "metadata": {},
   "source": [
    "## Обработка выбросов<a class='anchor' id='outlier'></a>"
   ]
  },
  {
   "cell_type": "code",
   "execution_count": 12,
   "id": "9faa62e1",
   "metadata": {},
   "outputs": [],
   "source": [
    "df_num_features = train_df.select_dtypes(include=['float32', 'int8'])\n",
    "df_num_features.drop('Credit Default', axis=1, inplace=True)"
   ]
  },
  {
   "cell_type": "code",
   "execution_count": 13,
   "id": "bc9ff2b9",
   "metadata": {},
   "outputs": [
    {
     "data": {
      "text/html": [
       "<div>\n",
       "<style scoped>\n",
       "    .dataframe tbody tr th:only-of-type {\n",
       "        vertical-align: middle;\n",
       "    }\n",
       "\n",
       "    .dataframe tbody tr th {\n",
       "        vertical-align: top;\n",
       "    }\n",
       "\n",
       "    .dataframe thead th {\n",
       "        text-align: right;\n",
       "    }\n",
       "</style>\n",
       "<table border=\"1\" class=\"dataframe\">\n",
       "  <thead>\n",
       "    <tr style=\"text-align: right;\">\n",
       "      <th></th>\n",
       "      <th>Annual Income</th>\n",
       "      <th>Tax Liens</th>\n",
       "      <th>Number of Open Accounts</th>\n",
       "      <th>Years of Credit History</th>\n",
       "      <th>Maximum Open Credit</th>\n",
       "      <th>Number of Credit Problems</th>\n",
       "      <th>Months since last delinquent</th>\n",
       "      <th>Bankruptcies</th>\n",
       "      <th>Current Loan Amount</th>\n",
       "      <th>Current Credit Balance</th>\n",
       "      <th>Monthly Debt</th>\n",
       "      <th>Credit Score</th>\n",
       "    </tr>\n",
       "  </thead>\n",
       "  <tbody>\n",
       "    <tr>\n",
       "      <th>0</th>\n",
       "      <td>482087.0</td>\n",
       "      <td>0.0</td>\n",
       "      <td>11.0</td>\n",
       "      <td>26.299999</td>\n",
       "      <td>685960.0</td>\n",
       "      <td>1.0</td>\n",
       "      <td>NaN</td>\n",
       "      <td>1.0</td>\n",
       "      <td>100000000.0</td>\n",
       "      <td>47386.0</td>\n",
       "      <td>7914.0</td>\n",
       "      <td>749.0</td>\n",
       "    </tr>\n",
       "    <tr>\n",
       "      <th>1</th>\n",
       "      <td>1025487.0</td>\n",
       "      <td>0.0</td>\n",
       "      <td>15.0</td>\n",
       "      <td>15.300000</td>\n",
       "      <td>1181730.0</td>\n",
       "      <td>0.0</td>\n",
       "      <td>NaN</td>\n",
       "      <td>0.0</td>\n",
       "      <td>264968.0</td>\n",
       "      <td>394972.0</td>\n",
       "      <td>18373.0</td>\n",
       "      <td>737.0</td>\n",
       "    </tr>\n",
       "    <tr>\n",
       "      <th>2</th>\n",
       "      <td>751412.0</td>\n",
       "      <td>0.0</td>\n",
       "      <td>11.0</td>\n",
       "      <td>35.000000</td>\n",
       "      <td>1182434.0</td>\n",
       "      <td>0.0</td>\n",
       "      <td>NaN</td>\n",
       "      <td>0.0</td>\n",
       "      <td>100000000.0</td>\n",
       "      <td>308389.0</td>\n",
       "      <td>13651.0</td>\n",
       "      <td>742.0</td>\n",
       "    </tr>\n",
       "    <tr>\n",
       "      <th>3</th>\n",
       "      <td>805068.0</td>\n",
       "      <td>0.0</td>\n",
       "      <td>8.0</td>\n",
       "      <td>22.500000</td>\n",
       "      <td>147400.0</td>\n",
       "      <td>1.0</td>\n",
       "      <td>NaN</td>\n",
       "      <td>1.0</td>\n",
       "      <td>121396.0</td>\n",
       "      <td>95855.0</td>\n",
       "      <td>11338.0</td>\n",
       "      <td>694.0</td>\n",
       "    </tr>\n",
       "    <tr>\n",
       "      <th>4</th>\n",
       "      <td>776264.0</td>\n",
       "      <td>0.0</td>\n",
       "      <td>13.0</td>\n",
       "      <td>13.600000</td>\n",
       "      <td>385836.0</td>\n",
       "      <td>1.0</td>\n",
       "      <td>NaN</td>\n",
       "      <td>0.0</td>\n",
       "      <td>125840.0</td>\n",
       "      <td>93309.0</td>\n",
       "      <td>7180.0</td>\n",
       "      <td>719.0</td>\n",
       "    </tr>\n",
       "  </tbody>\n",
       "</table>\n",
       "</div>"
      ],
      "text/plain": [
       "   Annual Income  Tax Liens  Number of Open Accounts  Years of Credit History  \\\n",
       "0       482087.0        0.0                     11.0                26.299999   \n",
       "1      1025487.0        0.0                     15.0                15.300000   \n",
       "2       751412.0        0.0                     11.0                35.000000   \n",
       "3       805068.0        0.0                      8.0                22.500000   \n",
       "4       776264.0        0.0                     13.0                13.600000   \n",
       "\n",
       "   Maximum Open Credit  Number of Credit Problems  \\\n",
       "0             685960.0                        1.0   \n",
       "1            1181730.0                        0.0   \n",
       "2            1182434.0                        0.0   \n",
       "3             147400.0                        1.0   \n",
       "4             385836.0                        1.0   \n",
       "\n",
       "   Months since last delinquent  Bankruptcies  Current Loan Amount  \\\n",
       "0                           NaN           1.0          100000000.0   \n",
       "1                           NaN           0.0             264968.0   \n",
       "2                           NaN           0.0          100000000.0   \n",
       "3                           NaN           1.0             121396.0   \n",
       "4                           NaN           0.0             125840.0   \n",
       "\n",
       "   Current Credit Balance  Monthly Debt  Credit Score  \n",
       "0                 47386.0        7914.0         749.0  \n",
       "1                394972.0       18373.0         737.0  \n",
       "2                308389.0       13651.0         742.0  \n",
       "3                 95855.0       11338.0         694.0  \n",
       "4                 93309.0        7180.0         719.0  "
      ]
     },
     "execution_count": 13,
     "metadata": {},
     "output_type": "execute_result"
    }
   ],
   "source": [
    "df_num_features.head()"
   ]
  },
  {
   "cell_type": "code",
   "execution_count": 14,
   "id": "319362f4",
   "metadata": {},
   "outputs": [
    {
     "data": {
      "image/png": "[encoded data removed]",
      "text/plain": [
       "<Figure size 1152x1152 with 12 Axes>"
      ]
     },
     "metadata": {
      "needs_background": "light"
     },
     "output_type": "display_data"
    }
   ],
   "source": [
    "df_num_features.hist(figsize=(16, 16), bins=20, grid=False);"
   ]
  },
  {
   "cell_type": "markdown",
   "id": "0a379908",
   "metadata": {},
   "source": [
    "**Annual Income**"
   ]
  },
  {
   "cell_type": "code",
   "execution_count": 15,
   "id": "e40e46e6",
   "metadata": {},
   "outputs": [
    {
     "data": {
      "image/png": "[encoded data removed]",
      "text/plain": [
       "<Figure size 432x216 with 1 Axes>"
      ]
     },
     "metadata": {
      "needs_background": "light"
     },
     "output_type": "display_data"
    }
   ],
   "source": [
    "plt.figure(figsize=(6, 3))\n",
    "\n",
    "sns.boxplot(train_df['Annual Income'], whis=1.5)\n",
    "\n",
    "plt.xlabel('Annual Income')\n",
    "plt.show()"
   ]
  },
  {
   "cell_type": "code",
   "execution_count": 16,
   "id": "afb48447",
   "metadata": {},
   "outputs": [
    {
     "data": {
      "text/plain": [
       "<AxesSubplot:>"
      ]
     },
     "execution_count": 16,
     "metadata": {},
     "output_type": "execute_result"
    },
    {
     "data": {
      "image/png": "[encoded data removed]",
      "text/plain": [
       "<Figure size 432x288 with 1 Axes>"
      ]
     },
     "metadata": {
      "needs_background": "light"
     },
     "output_type": "display_data"
    }
   ],
   "source": [
    "train_df.loc[(train_df['Annual Income'] > 2500000), 'Annual Income'] = train_df['Annual Income'].median()\n",
    "train_df['Annual Income'].hist()"
   ]
  },
  {
   "cell_type": "markdown",
   "id": "cb5a83ca",
   "metadata": {},
   "source": [
    "**Current Credit Balance**"
   ]
  },
  {
   "cell_type": "code",
   "execution_count": 17,
   "id": "e1a20a4c",
   "metadata": {},
   "outputs": [
    {
     "data": {
      "image/png": "[encoded data removed]",
      "text/plain": [
       "<Figure size 432x216 with 1 Axes>"
      ]
     },
     "metadata": {
      "needs_background": "light"
     },
     "output_type": "display_data"
    }
   ],
   "source": [
    "plt.figure(figsize=(6, 3))\n",
    "\n",
    "sns.boxplot(train_df['Current Credit Balance'], whis=1.5)\n",
    "\n",
    "plt.xlabel('Current Credit Balance')\n",
    "plt.show()"
   ]
  },
  {
   "cell_type": "code",
   "execution_count": 18,
   "id": "808c8dd8",
   "metadata": {},
   "outputs": [
    {
     "data": {
      "text/plain": [
       "<AxesSubplot:>"
      ]
     },
     "execution_count": 18,
     "metadata": {},
     "output_type": "execute_result"
    },
    {
     "data": {
      "image/png": "[encoded data removed]",
      "text/plain": [
       "<Figure size 432x288 with 1 Axes>"
      ]
     },
     "metadata": {
      "needs_background": "light"
     },
     "output_type": "display_data"
    }
   ],
   "source": [
    "train_df.loc[(train_df['Current Credit Balance'] > 800000), 'Current Credit Balance'] = train_df['Current Credit Balance'].median()\n",
    "train_df['Current Credit Balance'].hist()"
   ]
  },
  {
   "cell_type": "markdown",
   "id": "65067f82",
   "metadata": {},
   "source": [
    "**Monthly Debt**"
   ]
  },
  {
   "cell_type": "code",
   "execution_count": 19,
   "id": "6fa4d3f4",
   "metadata": {},
   "outputs": [
    {
     "data": {
      "image/png": "[encoded data removed]",
      "text/plain": [
       "<Figure size 432x216 with 1 Axes>"
      ]
     },
     "metadata": {
      "needs_background": "light"
     },
     "output_type": "display_data"
    }
   ],
   "source": [
    "plt.figure(figsize=(6, 3))\n",
    "\n",
    "sns.boxplot(train_df['Monthly Debt'], whis=1.5)\n",
    "\n",
    "plt.xlabel('Monthly Debt')\n",
    "plt.show()"
   ]
  },
  {
   "cell_type": "code",
   "execution_count": 20,
   "id": "7f0a12d5",
   "metadata": {},
   "outputs": [
    {
     "data": {
      "text/plain": [
       "<AxesSubplot:>"
      ]
     },
     "execution_count": 20,
     "metadata": {},
     "output_type": "execute_result"
    },
    {
     "data": {
      "image/png": "[encoded data removed]",
      "text/plain": [
       "<Figure size 432x288 with 1 Axes>"
      ]
     },
     "metadata": {
      "needs_background": "light"
     },
     "output_type": "display_data"
    }
   ],
   "source": [
    "train_df.loc[(train_df['Monthly Debt'] > 45000), 'Monthly Debt'] = train_df['Monthly Debt'].median()\n",
    "train_df['Monthly Debt'].hist()"
   ]
  },
  {
   "cell_type": "markdown",
   "id": "d5d943e8",
   "metadata": {},
   "source": [
    "**Maximum Open Credit**"
   ]
  },
  {
   "cell_type": "code",
   "execution_count": 21,
   "id": "4f943b7b",
   "metadata": {},
   "outputs": [],
   "source": [
    "max_credit = 99999999.0"
   ]
  },
  {
   "cell_type": "code",
   "execution_count": 22,
   "id": "ef3714fa",
   "metadata": {},
   "outputs": [
    {
     "data": {
      "text/plain": [
       "3.800523e+08    1\n",
       "1.304726e+09    1\n",
       "2.655129e+08    1\n",
       "Name: Maximum Open Credit, dtype: int64"
      ]
     },
     "execution_count": 22,
     "metadata": {},
     "output_type": "execute_result"
    }
   ],
   "source": [
    "train_df[train_df['Maximum Open Credit'] > max_credit]['Maximum Open Credit'].value_counts()"
   ]
  },
  {
   "cell_type": "code",
   "execution_count": 23,
   "id": "f1bad88c",
   "metadata": {},
   "outputs": [],
   "source": [
    "train_df['Maximum Open Credit Outlier'] = 0\n",
    "train_df.loc[train_df['Maximum Open Credit'] > max_credit, 'Maximum Open Credit Outlier'] = 1\n",
    "train_df.loc[train_df['Maximum Open Credit'] > max_credit, 'Maximum Open Credit'] = max_credit"
   ]
  },
  {
   "cell_type": "code",
   "execution_count": 24,
   "id": "041cd6e6",
   "metadata": {},
   "outputs": [
    {
     "data": {
      "text/html": [
       "<div>\n",
       "<style scoped>\n",
       "    .dataframe tbody tr th:only-of-type {\n",
       "        vertical-align: middle;\n",
       "    }\n",
       "\n",
       "    .dataframe tbody tr th {\n",
       "        vertical-align: top;\n",
       "    }\n",
       "\n",
       "    .dataframe thead th {\n",
       "        text-align: right;\n",
       "    }\n",
       "</style>\n",
       "<table border=\"1\" class=\"dataframe\">\n",
       "  <thead>\n",
       "    <tr style=\"text-align: right;\">\n",
       "      <th></th>\n",
       "      <th>Home Ownership</th>\n",
       "      <th>Annual Income</th>\n",
       "      <th>Years in current job</th>\n",
       "      <th>Tax Liens</th>\n",
       "      <th>Number of Open Accounts</th>\n",
       "      <th>Years of Credit History</th>\n",
       "      <th>Maximum Open Credit</th>\n",
       "      <th>Number of Credit Problems</th>\n",
       "      <th>Months since last delinquent</th>\n",
       "      <th>Bankruptcies</th>\n",
       "      <th>Purpose</th>\n",
       "      <th>Term</th>\n",
       "      <th>Current Loan Amount</th>\n",
       "      <th>Current Credit Balance</th>\n",
       "      <th>Monthly Debt</th>\n",
       "      <th>Credit Score</th>\n",
       "      <th>Credit Default</th>\n",
       "      <th>Maximum Open Credit Outlier</th>\n",
       "    </tr>\n",
       "  </thead>\n",
       "  <tbody>\n",
       "    <tr>\n",
       "      <th>44</th>\n",
       "      <td>Have Mortgage</td>\n",
       "      <td>1334256.0</td>\n",
       "      <td>10+ years</td>\n",
       "      <td>0.0</td>\n",
       "      <td>17.0</td>\n",
       "      <td>15.4</td>\n",
       "      <td>100000000.0</td>\n",
       "      <td>1.0</td>\n",
       "      <td>35.0</td>\n",
       "      <td>0.0</td>\n",
       "      <td>take a trip</td>\n",
       "      <td>Short Term</td>\n",
       "      <td>33110.0</td>\n",
       "      <td>656450.0</td>\n",
       "      <td>34357.0</td>\n",
       "      <td>729.0</td>\n",
       "      <td>0</td>\n",
       "      <td>1</td>\n",
       "    </tr>\n",
       "    <tr>\n",
       "      <th>617</th>\n",
       "      <td>Home Mortgage</td>\n",
       "      <td>NaN</td>\n",
       "      <td>3 years</td>\n",
       "      <td>0.0</td>\n",
       "      <td>13.0</td>\n",
       "      <td>27.5</td>\n",
       "      <td>100000000.0</td>\n",
       "      <td>0.0</td>\n",
       "      <td>NaN</td>\n",
       "      <td>0.0</td>\n",
       "      <td>debt consolidation</td>\n",
       "      <td>Short Term</td>\n",
       "      <td>529892.0</td>\n",
       "      <td>209323.0</td>\n",
       "      <td>5492.0</td>\n",
       "      <td>NaN</td>\n",
       "      <td>0</td>\n",
       "      <td>1</td>\n",
       "    </tr>\n",
       "    <tr>\n",
       "      <th>2617</th>\n",
       "      <td>Home Mortgage</td>\n",
       "      <td>1168386.0</td>\n",
       "      <td>10+ years</td>\n",
       "      <td>0.0</td>\n",
       "      <td>12.0</td>\n",
       "      <td>35.5</td>\n",
       "      <td>100000000.0</td>\n",
       "      <td>0.0</td>\n",
       "      <td>NaN</td>\n",
       "      <td>0.0</td>\n",
       "      <td>other</td>\n",
       "      <td>Short Term</td>\n",
       "      <td>50116.0</td>\n",
       "      <td>209323.0</td>\n",
       "      <td>20272.0</td>\n",
       "      <td>750.0</td>\n",
       "      <td>0</td>\n",
       "      <td>1</td>\n",
       "    </tr>\n",
       "  </tbody>\n",
       "</table>\n",
       "</div>"
      ],
      "text/plain": [
       "     Home Ownership  Annual Income Years in current job  Tax Liens  \\\n",
       "44    Have Mortgage      1334256.0            10+ years        0.0   \n",
       "617   Home Mortgage            NaN              3 years        0.0   \n",
       "2617  Home Mortgage      1168386.0            10+ years        0.0   \n",
       "\n",
       "      Number of Open Accounts  Years of Credit History  Maximum Open Credit  \\\n",
       "44                       17.0                     15.4          100000000.0   \n",
       "617                      13.0                     27.5          100000000.0   \n",
       "2617                     12.0                     35.5          100000000.0   \n",
       "\n",
       "      Number of Credit Problems  Months since last delinquent  Bankruptcies  \\\n",
       "44                          1.0                          35.0           0.0   \n",
       "617                         0.0                           NaN           0.0   \n",
       "2617                        0.0                           NaN           0.0   \n",
       "\n",
       "                 Purpose        Term  Current Loan Amount  \\\n",
       "44           take a trip  Short Term              33110.0   \n",
       "617   debt consolidation  Short Term             529892.0   \n",
       "2617               other  Short Term              50116.0   \n",
       "\n",
       "      Current Credit Balance  Monthly Debt  Credit Score  Credit Default  \\\n",
       "44                  656450.0       34357.0         729.0               0   \n",
       "617                 209323.0        5492.0           NaN               0   \n",
       "2617                209323.0       20272.0         750.0               0   \n",
       "\n",
       "      Maximum Open Credit Outlier  \n",
       "44                              1  \n",
       "617                             1  \n",
       "2617                            1  "
      ]
     },
     "execution_count": 24,
     "metadata": {},
     "output_type": "execute_result"
    }
   ],
   "source": [
    "train_df[train_df['Maximum Open Credit Outlier'] == 1]"
   ]
  },
  {
   "cell_type": "markdown",
   "id": "2a39d158",
   "metadata": {},
   "source": [
    "**Current Loan Amount**"
   ]
  },
  {
   "cell_type": "code",
   "execution_count": 25,
   "id": "9153f63d",
   "metadata": {},
   "outputs": [
    {
     "data": {
      "text/plain": [
       "100000000.0    870\n",
       "218064.0         6\n",
       "89298.0          6\n",
       "222926.0         5\n",
       "265826.0         5\n",
       "              ... \n",
       "351626.0         1\n",
       "212498.0         1\n",
       "187682.0         1\n",
       "108922.0         1\n",
       "26928.0          1\n",
       "Name: Current Loan Amount, Length: 5386, dtype: int64"
      ]
     },
     "execution_count": 25,
     "metadata": {},
     "output_type": "execute_result"
    }
   ],
   "source": [
    "train_df['Current Loan Amount'].value_counts()"
   ]
  },
  {
   "cell_type": "code",
   "execution_count": 26,
   "id": "36814fc1",
   "metadata": {},
   "outputs": [],
   "source": [
    "train_df['Current Loan Amount Outlier'] = 0\n",
    "train_df.loc[train_df['Current Loan Amount'] == 99999999.0, 'Current Loan Amount Outlier'] = 1\n",
    "train_df.loc[train_df['Current Loan Amount'] == 99999999.0, 'Current Loan Amount'] = train_df['Current Loan Amount'].median()"
   ]
  },
  {
   "cell_type": "code",
   "execution_count": 27,
   "id": "1ee9d4fc",
   "metadata": {},
   "outputs": [
    {
     "data": {
      "text/plain": [
       "0"
      ]
     },
     "execution_count": 27,
     "metadata": {},
     "output_type": "execute_result"
    }
   ],
   "source": [
    "train_df[train_df['Current Loan Amount'] == 99999999.0]['Current Loan Amount'].count()"
   ]
  },
  {
   "cell_type": "markdown",
   "id": "1938188c",
   "metadata": {},
   "source": [
    "**Credit Score**"
   ]
  },
  {
   "cell_type": "code",
   "execution_count": 28,
   "id": "a600d92d",
   "metadata": {},
   "outputs": [
    {
     "data": {
      "text/plain": [
       "5543"
      ]
     },
     "execution_count": 28,
     "metadata": {},
     "output_type": "execute_result"
    }
   ],
   "source": [
    "train_df[train_df['Credit Score'] <= 850]['Credit Score'].count()"
   ]
  },
  {
   "cell_type": "code",
   "execution_count": 29,
   "id": "c23ef9b4",
   "metadata": {},
   "outputs": [
    {
     "data": {
      "text/plain": [
       "400"
      ]
     },
     "execution_count": 29,
     "metadata": {},
     "output_type": "execute_result"
    }
   ],
   "source": [
    "train_df[train_df['Credit Score'] > 1000]['Credit Score'].count()"
   ]
  },
  {
   "cell_type": "code",
   "execution_count": 30,
   "id": "65b2efbb",
   "metadata": {},
   "outputs": [],
   "source": [
    "train_df['Credit Score Outlier'] = 0\n",
    "train_df.loc[train_df['Credit Score'] > 1000, 'Credit Score Outlier'] = 1\n",
    "train_df.loc[train_df['Credit Score'] > 1000, 'Credit Score'] = train_df.loc[train_df['Credit Score'] > 1000, 'Credit Score'] / 10"
   ]
  },
  {
   "cell_type": "code",
   "execution_count": 31,
   "id": "6182ad69",
   "metadata": {},
   "outputs": [
    {
     "data": {
      "image/png": "[encoded data removed]",
      "text/plain": [
       "<Figure size 288x288 with 1 Axes>"
      ]
     },
     "metadata": {
      "needs_background": "light"
     },
     "output_type": "display_data"
    }
   ],
   "source": [
    "train_df['Credit Score'].hist(bins = 20, figsize = (4, 4))\n",
    "plt.show()"
   ]
  },
  {
   "cell_type": "code",
   "execution_count": 32,
   "id": "1000dfb4",
   "metadata": {},
   "outputs": [
    {
     "data": {
      "image/png": "[encoded data removed]",
      "text/plain": [
       "<Figure size 288x288 with 1 Axes>"
      ]
     },
     "metadata": {
      "needs_background": "light"
     },
     "output_type": "display_data"
    }
   ],
   "source": [
    "train_df.loc[train_df['Credit Score Outlier'] == 1, 'Credit Score'].hist(bins = 20, figsize = (4, 4))\n",
    "plt.show()"
   ]
  },
  {
   "cell_type": "markdown",
   "id": "e3e7c60a",
   "metadata": {},
   "source": [
    "## Обработка пропусков <a class='anchor' id='omission'></a>"
   ]
  },
  {
   "cell_type": "code",
   "execution_count": 33,
   "id": "d8a228e6",
   "metadata": {},
   "outputs": [
    {
     "data": {
      "text/plain": [
       "Home Ownership                     0\n",
       "Annual Income                   1557\n",
       "Years in current job             371\n",
       "Tax Liens                          0\n",
       "Number of Open Accounts            0\n",
       "Years of Credit History            0\n",
       "Maximum Open Credit                0\n",
       "Number of Credit Problems          0\n",
       "Months since last delinquent    4081\n",
       "Bankruptcies                      14\n",
       "Purpose                            0\n",
       "Term                               0\n",
       "Current Loan Amount                0\n",
       "Current Credit Balance             0\n",
       "Monthly Debt                       0\n",
       "Credit Score                    1557\n",
       "Credit Default                     0\n",
       "Maximum Open Credit Outlier        0\n",
       "Current Loan Amount Outlier        0\n",
       "Credit Score Outlier               0\n",
       "dtype: int64"
      ]
     },
     "execution_count": 33,
     "metadata": {},
     "output_type": "execute_result"
    }
   ],
   "source": [
    "train_df.isna().sum()"
   ]
  },
  {
   "cell_type": "markdown",
   "id": "5564884e",
   "metadata": {},
   "source": [
    "**Annual Income**"
   ]
  },
  {
   "cell_type": "code",
   "execution_count": 34,
   "id": "71bd4d6b",
   "metadata": {},
   "outputs": [
    {
     "data": {
      "text/plain": [
       "1168386.0    439\n",
       "1043651.0      4\n",
       "1058376.0      4\n",
       "969475.0       4\n",
       "1338113.0      4\n",
       "            ... \n",
       "1054823.0      1\n",
       "959272.0       1\n",
       "1788546.0      1\n",
       "1399920.0      1\n",
       "402192.0       1\n",
       "Name: Annual Income, Length: 5049, dtype: int64"
      ]
     },
     "execution_count": 34,
     "metadata": {},
     "output_type": "execute_result"
    }
   ],
   "source": [
    "train_df['Annual Income'].value_counts()"
   ]
  },
  {
   "cell_type": "code",
   "execution_count": 35,
   "id": "a57ec69b",
   "metadata": {},
   "outputs": [
    {
     "data": {
      "text/plain": [
       "0    5943\n",
       "1    1557\n",
       "Name: Annual_Income_nan, dtype: int64"
      ]
     },
     "execution_count": 35,
     "metadata": {},
     "output_type": "execute_result"
    }
   ],
   "source": [
    "train_df['Annual_Income_nan'] = 0\n",
    "train_df.loc[train_df['Annual Income'].isna(), 'Annual_Income_nan'] = 1\n",
    "train_df['Annual_Income_nan'].value_counts()"
   ]
  },
  {
   "cell_type": "code",
   "execution_count": 36,
   "id": "846acc65",
   "metadata": {},
   "outputs": [
    {
     "data": {
      "text/plain": [
       "0"
      ]
     },
     "execution_count": 36,
     "metadata": {},
     "output_type": "execute_result"
    }
   ],
   "source": [
    "median_ls = train_df['Annual Income'].median()\n",
    "train_df['Annual Income'] = train_df['Annual Income'].fillna(median_ls)\n",
    "train_df['Annual Income'].isna().sum()"
   ]
  },
  {
   "cell_type": "markdown",
   "id": "71a9954a",
   "metadata": {},
   "source": [
    "**Years in current job**"
   ]
  },
  {
   "cell_type": "code",
   "execution_count": 37,
   "id": "f200643f",
   "metadata": {},
   "outputs": [
    {
     "data": {
      "text/plain": [
       "'10+ years'"
      ]
     },
     "execution_count": 37,
     "metadata": {},
     "output_type": "execute_result"
    }
   ],
   "source": [
    "years_job_mode = train_df['Years in current job'].mode().values[0]\n",
    "years_job_mode"
   ]
  },
  {
   "cell_type": "code",
   "execution_count": 38,
   "id": "010a8d43",
   "metadata": {},
   "outputs": [],
   "source": [
    "train_df['Years in current job NaN'] = 0\n",
    "train_df.loc[train_df['Years in current job'].isna(), 'Years in current job NaN'] = 1\n",
    "train_df['Years in current job'].fillna(years_job_mode, inplace = True)"
   ]
  },
  {
   "cell_type": "code",
   "execution_count": 39,
   "id": "254163f9",
   "metadata": {},
   "outputs": [
    {
     "data": {
      "text/plain": [
       "0"
      ]
     },
     "execution_count": 39,
     "metadata": {},
     "output_type": "execute_result"
    }
   ],
   "source": [
    "train_df['Years in current job'].isna().sum()"
   ]
  },
  {
   "cell_type": "markdown",
   "id": "7920533a",
   "metadata": {},
   "source": [
    "**Months since last delinquent**"
   ]
  },
  {
   "cell_type": "code",
   "execution_count": 40,
   "id": "8a724a48",
   "metadata": {},
   "outputs": [],
   "source": [
    "train_df.drop('Months since last delinquent', axis=1, inplace=True)"
   ]
  },
  {
   "cell_type": "markdown",
   "id": "6c7aa752",
   "metadata": {},
   "source": [
    "**Bankruptcies**"
   ]
  },
  {
   "cell_type": "code",
   "execution_count": 41,
   "id": "7b4ec837",
   "metadata": {},
   "outputs": [
    {
     "data": {
      "text/plain": [
       "0    7486\n",
       "1      14\n",
       "Name: Bankruptcies Nan, dtype: int64"
      ]
     },
     "execution_count": 41,
     "metadata": {},
     "output_type": "execute_result"
    }
   ],
   "source": [
    "train_df['Bankruptcies Nan'] = 0\n",
    "train_df.loc[train_df['Bankruptcies'].isna(), 'Bankruptcies Nan'] = 1\n",
    "train_df['Bankruptcies Nan'].value_counts()"
   ]
  },
  {
   "cell_type": "code",
   "execution_count": 42,
   "id": "2581330e",
   "metadata": {},
   "outputs": [
    {
     "data": {
      "text/plain": [
       "0"
      ]
     },
     "execution_count": 42,
     "metadata": {},
     "output_type": "execute_result"
    }
   ],
   "source": [
    "median_ls = train_df['Bankruptcies'].median()\n",
    "train_df['Bankruptcies'] = train_df['Bankruptcies'].fillna(median_ls)\n",
    "train_df['Bankruptcies'].isna().sum()"
   ]
  },
  {
   "cell_type": "markdown",
   "id": "a71b6807",
   "metadata": {},
   "source": [
    "**Credit Score**"
   ]
  },
  {
   "cell_type": "code",
   "execution_count": 43,
   "id": "c626219f",
   "metadata": {},
   "outputs": [
    {
     "data": {
      "text/plain": [
       "740.0    184\n",
       "747.0    172\n",
       "748.0    163\n",
       "741.0    155\n",
       "745.0    155\n",
       "        ... \n",
       "631.0      1\n",
       "590.0      1\n",
       "589.0      1\n",
       "609.0      1\n",
       "641.0      1\n",
       "Name: Credit Score, Length: 160, dtype: int64"
      ]
     },
     "execution_count": 43,
     "metadata": {},
     "output_type": "execute_result"
    }
   ],
   "source": [
    "train_df['Credit Score'].value_counts()"
   ]
  },
  {
   "cell_type": "code",
   "execution_count": 44,
   "id": "46abfc85",
   "metadata": {},
   "outputs": [
    {
     "data": {
      "text/plain": [
       "0    5943\n",
       "1    1557\n",
       "Name: Annual_Income_nan, dtype: int64"
      ]
     },
     "execution_count": 44,
     "metadata": {},
     "output_type": "execute_result"
    }
   ],
   "source": [
    "train_df['Credit Score Nan'] = 0\n",
    "train_df.loc[train_df['Credit Score'].isna(), 'Credit Score Nan'] = 1\n",
    "train_df['Annual_Income_nan'].value_counts()"
   ]
  },
  {
   "cell_type": "code",
   "execution_count": 45,
   "id": "a41d0cb3",
   "metadata": {},
   "outputs": [
    {
     "data": {
      "text/plain": [
       "0"
      ]
     },
     "execution_count": 45,
     "metadata": {},
     "output_type": "execute_result"
    }
   ],
   "source": [
    "median_ls = train_df['Credit Score'].median()\n",
    "train_df['Credit Score'] = train_df['Credit Score'].fillna(median_ls)\n",
    "train_df['Credit Score'].isna().sum()"
   ]
  },
  {
   "cell_type": "markdown",
   "id": "4bc92739",
   "metadata": {},
   "source": [
    "## Функция подготовки исходных данных<a class='anchor' id='preprocessing'></a>"
   ]
  },
  {
   "cell_type": "code",
   "execution_count": 46,
   "id": "1638158b",
   "metadata": {},
   "outputs": [],
   "source": [
    "class DataPreprocessing:\n",
    "\n",
    "    def __init__(self):\n",
    "        self.medians = None\n",
    "        self.modes = None\n",
    "        self.max_score = 850\n",
    "        self.max_credit = 99999999.0\n",
    "        \n",
    "# Статистика\n",
    "    def fit(self, df):     \n",
    "        # Расчет медиан\n",
    "        self.medians = df.median()\n",
    "        self.modes = df.mode().loc[0]\n",
    "    \n",
    "# Трансформация данных\n",
    "    def transform(self, df):\n",
    "        df = reduce_mem_usage(df)\n",
    "        \n",
    "         #Выбросы\n",
    "        \n",
    "        # Credit score\n",
    "        df['Credit Score Outlier'] = 0\n",
    "    \n",
    "        df.loc[df['Credit Score'] > self.max_score, 'Credit Score Outlier'] = 1\n",
    "\n",
    "        df.loc[df['Credit Score'] > self.max_score, 'Credit Score'] = \\\n",
    "                                df.loc[df_train['Credit Score'] > self.max_score, 'Credit Score'] / 10\n",
    "       \n",
    "        #Annual Income       \n",
    "        df.loc[(df['Annual Income'] > 2500000), 'Annual Income'] = self.medians['Annual Income']\n",
    "        \n",
    "        #Current Credit Balance\n",
    "        df.loc[(df['Current Credit Balance'] > 800000), 'Current Credit Balance'] = self.medians['Current Credit Balance']\n",
    "        \n",
    "        #Monthly Debt\n",
    "        df.loc[(df['Monthly Debt'] > 45000), 'Monthly Debt'] = self.medians['Monthly Debt']\n",
    "        \n",
    "        # Current Loan Amount\n",
    "        df['Current Loan Amount Outlier'] = 0\n",
    "        df.loc[df['Current Loan Amount'] == self.max_credit, 'Current Loan Amount Outlier'] = 1\n",
    "        df.loc[df['Current Loan Amount'] == self.max_credit, 'Current Loan Amount'] = self.medians['Current Loan Amount']\n",
    "        \n",
    "        # Maximum Open Credit\n",
    "        df['Maximum Open Credit Outlier'] = 0\n",
    "        df.loc[df['Maximum Open Credit'] > max_credit, 'Maximum Open Credit Outlier'] = 1\n",
    "        df.loc[df['Maximum Open Credit'] > max_credit, 'Maximum Open Credit'] = max_credit\n",
    "        \n",
    "        \n",
    "        # Пропуски\n",
    "        \n",
    "        #Annual Income\n",
    "        df['Annual_Income_nan'] = 0\n",
    "        df.loc[df['Annual Income'].isna(), 'Annual_Income_nan'] = 1\n",
    "        df['Annual Income'].fillna(self.medians['Annual Income'], inplace=True)\n",
    "        \n",
    "        #Years in current job\n",
    "        df['Years in current job NaN'] = 0\n",
    "        df.loc[X['Years in current job'].isna(), 'Years in current job NaN'] = 1\n",
    "        df['Years in current job'].fillna(self.modes['Years in current job'], inplace = True)\n",
    "        \n",
    "        #Months since last delinquent\n",
    "#        df.drop('Months since last delinquent', axis=1, inplace=True)\n",
    "        \n",
    "        #Bankruptcies\n",
    "        df['Bankruptcies Nan'] = 0\n",
    "        df.loc[df['Bankruptcies'].isna(), 'Bankruptcies Nan'] = 1\n",
    "        df['Bankruptcies'].fillna(self.medians['Bankruptcies'], inplace=True)\n",
    "        \n",
    "        #Credit score\n",
    "        df['Credit Score Nan'] = 0\n",
    "        df.loc[df['Credit Score'].isna(), 'Credit Score Nan'] = 1\n",
    "        df['Credit Score'].fillna(self.medians['Credit Score'], inplace=True)\n",
    "        \n",
    "        return df"
   ]
  },
  {
   "cell_type": "markdown",
   "id": "3255d459",
   "metadata": {},
   "source": [
    "## Построение новых признаков<a class='anchor' id='new_features'></a>"
   ]
  },
  {
   "cell_type": "markdown",
   "id": "a9a77aad",
   "metadata": {},
   "source": [
    "**Отношение кредита к доходу**"
   ]
  },
  {
   "cell_type": "code",
   "execution_count": 47,
   "id": "b3ab97b1",
   "metadata": {},
   "outputs": [],
   "source": [
    "train_df['Credit to income ratio'] = np.round((train_df['Annual Income']/12) / train_df['Monthly Debt'], 3) "
   ]
  },
  {
   "cell_type": "code",
   "execution_count": 48,
   "id": "65983290",
   "metadata": {},
   "outputs": [],
   "source": [
    "train_df.loc[train_df['Credit to income ratio'] == np.inf, ['Credit to income ratio']] = train_df['Credit to income ratio'].median()"
   ]
  },
  {
   "cell_type": "markdown",
   "id": "f5db09f4",
   "metadata": {},
   "source": [
    "**Отношение кредита к доходу**"
   ]
  },
  {
   "cell_type": "code",
   "execution_count": 49,
   "id": "5f21c92f",
   "metadata": {},
   "outputs": [],
   "source": [
    "train_df['Loan to income ratio'] = np.round((train_df['Annual Income']/12) / train_df['Current Loan Amount'], 3)"
   ]
  },
  {
   "cell_type": "code",
   "execution_count": 50,
   "id": "e5b7e4d7",
   "metadata": {},
   "outputs": [],
   "source": [
    "train_df.loc[train_df['Loan to income ratio'] == np.inf, ['Loan to income ratio']] = train_df['Loan to income ratio'].median()"
   ]
  },
  {
   "cell_type": "markdown",
   "id": "7a6e76e6",
   "metadata": {},
   "source": [
    "## Функция построения новых признаков<a class='anchor' id='generator'></a>"
   ]
  },
  {
   "cell_type": "code",
   "execution_count": 51,
   "id": "5847edb0",
   "metadata": {},
   "outputs": [],
   "source": [
    "class FeatureGenerator:\n",
    "    def __init__(self):\n",
    "        self.median = None\n",
    "        \n",
    "    def fit(self, df, y=None):\n",
    "        self.medians = df.median()\n",
    "\n",
    "    def transform(self, df):\n",
    "        df = reduce_mem_usage(df)\n",
    "        \n",
    "        # 'Credit to income ratio'\n",
    "        df['Credit to income ratio'] = np.round((df['Annual Income']/12) / df['Monthly Debt'], 3)\n",
    "        df.loc[df['Credit to income ratio'] == np.inf, ['Credit to income ratio']] = df['Credit to income ratio'].median()\n",
    "        \n",
    "        # 'Loan to income ratio'\n",
    "        #df['Loan to income ratio'] = np.round((df['Annual Income']/12) / df['Current Loan Amount'], 3)\n",
    "        #df.loc[df['Loan to income ratio'] == np.inf, ['Loan to income ratio']] = df['Loan to income ratio'].median()\n",
    "        \n",
    "        return df"
   ]
  },
  {
   "cell_type": "markdown",
   "id": "d946ef38",
   "metadata": {},
   "source": [
    "## Отбор признаков  <a class='anchor' id='feature_selection'></a>"
   ]
  },
  {
   "cell_type": "code",
   "execution_count": 52,
   "id": "5ca4a1d7",
   "metadata": {},
   "outputs": [],
   "source": [
    "feature_names = ['Annual Income', \n",
    "                'Tax Liens', \n",
    "                 'Number of Open Accounts', \n",
    "                 'Years of Credit History', \n",
    "                 'Maximum Open Credit', \n",
    "                 'Number of Credit Problems', \n",
    "#                 'Months since last delinquent', \n",
    "                 'Bankruptcies',\n",
    "                 'Current Loan Amount', \n",
    "                 'Current Credit Balance', \n",
    "                 'Monthly Debt', \n",
    "                 'Credit Score', \n",
    "                 'Years in current job', \n",
    "                 'Purpose'\n",
    "                ]\n",
    "\n",
    "new_feature_names = ['Annual_Income_nan',\n",
    "                     'Years in current job NaN',\n",
    "                     'Bankruptcies Nan',\n",
    "                     'Credit Score Nan',\n",
    "                     'Current Loan Amount Outlier',\n",
    "                     'Credit to income ratio',\n",
    "#                     'Loan to income ratio'\n",
    "#                     'Maximum Open Credit Outlier',\n",
    "#                     'Credit Score Outlier'\n",
    "                    ]\n",
    "\n",
    "cat_feature_names = ['Years in current job', 'Purpose']\n",
    "\n",
    "target_name = 'Credit Default'"
   ]
  },
  {
   "cell_type": "markdown",
   "id": "8f16086b",
   "metadata": {},
   "source": [
    "## Разбиение на train и test<a class='anchor' id='train_test'></a>"
   ]
  },
  {
   "cell_type": "code",
   "execution_count": 53,
   "id": "62dc1cea",
   "metadata": {},
   "outputs": [],
   "source": [
    "df_train = pd.read_csv(TRAIN_DATASET_PATH)\n",
    "df_test = pd.read_csv(TEST_DATASET_PATH)\n",
    "\n",
    "X = df_train.drop(columns=[target_name])\n",
    "y = df_train[target_name]"
   ]
  },
  {
   "cell_type": "code",
   "execution_count": 54,
   "id": "4cf71456",
   "metadata": {},
   "outputs": [],
   "source": [
    "X_train, X_test, y_train, y_test = train_test_split(X, y, test_size=0.33, shuffle=True, random_state=21)"
   ]
  },
  {
   "cell_type": "code",
   "execution_count": 55,
   "id": "aaedf4ea",
   "metadata": {},
   "outputs": [
    {
     "name": "stdout",
     "output_type": "stream",
     "text": [
      "Memory usage of dataframe is 0.65 MB\n",
      "Memory usage after optimization is: 0.42 MB\n",
      "Decreased by 35.3%\n",
      "Memory usage of dataframe is 0.32 MB\n",
      "Memory usage after optimization is: 0.21 MB\n",
      "Decreased by 35.3%\n",
      "Memory usage of dataframe is 0.31 MB\n",
      "Memory usage after optimization is: 0.19 MB\n",
      "Decreased by 37.5%\n"
     ]
    }
   ],
   "source": [
    "preprocessor = DataPreprocessing()\n",
    "preprocessor.fit(X_train)  #  fit применяем только к X_train\n",
    "\n",
    "X_train = preprocessor.transform(X_train)\n",
    "X_test = preprocessor.transform(X_test)\n",
    "df_test = preprocessor.transform(df_test)"
   ]
  },
  {
   "cell_type": "code",
   "execution_count": 56,
   "id": "f6057126",
   "metadata": {},
   "outputs": [
    {
     "name": "stdout",
     "output_type": "stream",
     "text": [
      "Memory usage of dataframe is 0.69 MB\n",
      "Memory usage after optimization is: 0.46 MB\n",
      "Decreased by 34.0%\n",
      "Memory usage of dataframe is 0.34 MB\n",
      "Memory usage after optimization is: 0.22 MB\n",
      "Decreased by 34.0%\n",
      "Memory usage of dataframe is 0.32 MB\n",
      "Memory usage after optimization is: 0.21 MB\n",
      "Decreased by 36.0%\n"
     ]
    }
   ],
   "source": [
    "features_gen = FeatureGenerator()\n",
    "features_gen.fit(X_train, y_train)  #  fit применяем только к X_train, y_train\n",
    "\n",
    "X_train = features_gen.transform(X_train)\n",
    "X_test = features_gen.transform(X_test)\n",
    "df_test = features_gen.transform(df_test)"
   ]
  },
  {
   "cell_type": "code",
   "execution_count": 57,
   "id": "cb14ccdc",
   "metadata": {},
   "outputs": [],
   "source": [
    "X_train = X_train[feature_names + new_feature_names]\n",
    "X_test = X_test[feature_names + new_feature_names]\n",
    "df_test = df_test[feature_names + new_feature_names]"
   ]
  },
  {
   "cell_type": "markdown",
   "id": "d70b3fbf",
   "metadata": {},
   "source": [
    "## Построение модели <a class='anchor' id='model'></a>"
   ]
  },
  {
   "cell_type": "markdown",
   "id": "b52dd9ff",
   "metadata": {},
   "source": [
    "**Обучение**"
   ]
  },
  {
   "cell_type": "code",
   "execution_count": 58,
   "id": "cd1b9a33",
   "metadata": {},
   "outputs": [
    {
     "data": {
      "text/plain": [
       "2.5537482319660536"
      ]
     },
     "execution_count": 58,
     "metadata": {},
     "output_type": "execute_result"
    }
   ],
   "source": [
    "disbalance = y_train.value_counts()[0] / y_train.value_counts()[1]\n",
    "disbalance"
   ]
  },
  {
   "cell_type": "code",
   "execution_count": 59,
   "id": "2fd28469",
   "metadata": {
    "scrolled": false
   },
   "outputs": [
    {
     "name": "stdout",
     "output_type": "stream",
     "text": [
      "(5025, 19)\n"
     ]
    },
    {
     "data": {
      "application/vnd.jupyter.widget-view+json": {
       "model_id": "824407bdaa44472ba4bc9fd3fa0d3c2c",
       "version_major": 2,
       "version_minor": 0
      },
      "text/plain": [
       "MetricVisualizer(layout=Layout(align_self='stretch', height='500px'))"
      ]
     },
     "metadata": {},
     "output_type": "display_data"
    },
    {
     "data": {
      "text/plain": [
       "<catboost.core.CatBoostClassifier at 0x1de2bfe2880>"
      ]
     },
     "execution_count": 59,
     "metadata": {},
     "output_type": "execute_result"
    }
   ],
   "source": [
    "model_catb = catb.CatBoostClassifier(\n",
    "                                     silent=True, \n",
    "                                     random_state=21,\n",
    "                                     class_weights=[1, disbalance],\n",
    "                                     eval_metric='F1',\n",
    "                                     early_stopping_rounds=20,\n",
    "                                     use_best_model=True,\n",
    "                                     custom_metric=['Precision', 'Recall'],\n",
    "                                     iterations=50,\n",
    "                                     max_depth=5,\n",
    "                                     min_data_in_leaf=5,\n",
    "                                     cat_features=cat_feature_names,\n",
    "                                        )\n",
    "print(X_train.shape)\n",
    "model_catb.fit(X_train, y_train, plot=True, eval_set=(X_test, y_test))"
   ]
  },
  {
   "cell_type": "markdown",
   "id": "ad2a70f2",
   "metadata": {},
   "source": [
    "**Оценка модели**"
   ]
  },
  {
   "cell_type": "code",
   "execution_count": 60,
   "id": "f2b0127e",
   "metadata": {},
   "outputs": [
    {
     "name": "stdout",
     "output_type": "stream",
     "text": [
      "TRAIN\n",
      " 0.51\n",
      "TEST\n",
      " 0.512\n",
      "TRAIN\n",
      "\n",
      "              precision    recall  f1-score   support\n",
      "\n",
      "           0       0.89      0.39      0.54      3611\n",
      "           1       0.36      0.88      0.51      1414\n",
      "\n",
      "    accuracy                           0.52      5025\n",
      "   macro avg       0.63      0.63      0.52      5025\n",
      "weighted avg       0.74      0.52      0.53      5025\n",
      "\n",
      "VALID\n",
      "\n",
      "              precision    recall  f1-score   support\n",
      "\n",
      "           0       0.90      0.38      0.53      1776\n",
      "           1       0.36      0.89      0.51       699\n",
      "\n",
      "    accuracy                           0.52      2475\n",
      "   macro avg       0.63      0.63      0.52      2475\n",
      "weighted avg       0.74      0.52      0.53      2475\n",
      "\n",
      "CONFUSION MATRIX\n",
      "\n",
      "col_0             0     1\n",
      "Credit Default           \n",
      "0               670  1106\n",
      "1                78   621\n"
     ]
    }
   ],
   "source": [
    "evaluate_preds(model_catb, X_train, X_test, y_train, y_test)"
   ]
  },
  {
   "cell_type": "markdown",
   "id": "9f4f3230",
   "metadata": {},
   "source": [
    "## Прогнозирование на тестовом датасете<a class='anchor' id='prediction'></a>"
   ]
  },
  {
   "cell_type": "code",
   "execution_count": 61,
   "id": "52334392",
   "metadata": {},
   "outputs": [
    {
     "data": {
      "text/html": [
       "<div>\n",
       "<style scoped>\n",
       "    .dataframe tbody tr th:only-of-type {\n",
       "        vertical-align: middle;\n",
       "    }\n",
       "\n",
       "    .dataframe tbody tr th {\n",
       "        vertical-align: top;\n",
       "    }\n",
       "\n",
       "    .dataframe thead th {\n",
       "        text-align: right;\n",
       "    }\n",
       "</style>\n",
       "<table border=\"1\" class=\"dataframe\">\n",
       "  <thead>\n",
       "    <tr style=\"text-align: right;\">\n",
       "      <th></th>\n",
       "      <th>Id</th>\n",
       "      <th>Credit Default</th>\n",
       "    </tr>\n",
       "  </thead>\n",
       "  <tbody>\n",
       "    <tr>\n",
       "      <th>0</th>\n",
       "      <td>0</td>\n",
       "      <td>1</td>\n",
       "    </tr>\n",
       "    <tr>\n",
       "      <th>1</th>\n",
       "      <td>1</td>\n",
       "      <td>1</td>\n",
       "    </tr>\n",
       "    <tr>\n",
       "      <th>2</th>\n",
       "      <td>2</td>\n",
       "      <td>1</td>\n",
       "    </tr>\n",
       "    <tr>\n",
       "      <th>3</th>\n",
       "      <td>3</td>\n",
       "      <td>1</td>\n",
       "    </tr>\n",
       "    <tr>\n",
       "      <th>4</th>\n",
       "      <td>4</td>\n",
       "      <td>1</td>\n",
       "    </tr>\n",
       "  </tbody>\n",
       "</table>\n",
       "</div>"
      ],
      "text/plain": [
       "   Id  Credit Default\n",
       "0   0               1\n",
       "1   1               1\n",
       "2   2               1\n",
       "3   3               1\n",
       "4   4               1"
      ]
     },
     "execution_count": 61,
     "metadata": {},
     "output_type": "execute_result"
    }
   ],
   "source": [
    "submit = pd.read_csv(SUBMISSION_DATASET_PATH)\n",
    "submit.head()"
   ]
  },
  {
   "cell_type": "code",
   "execution_count": 62,
   "id": "028390ca",
   "metadata": {},
   "outputs": [
    {
     "data": {
      "text/plain": [
       "array([1, 1, 1, ..., 1, 1, 1], dtype=int64)"
      ]
     },
     "execution_count": 62,
     "metadata": {},
     "output_type": "execute_result"
    }
   ],
   "source": [
    "predictions = model_catb.predict(df_test)\n",
    "predictions"
   ]
  },
  {
   "cell_type": "code",
   "execution_count": 63,
   "id": "8f550bf2",
   "metadata": {},
   "outputs": [
    {
     "data": {
      "text/plain": [
       "2500"
      ]
     },
     "execution_count": 63,
     "metadata": {},
     "output_type": "execute_result"
    }
   ],
   "source": [
    "len(predictions)"
   ]
  },
  {
   "cell_type": "code",
   "execution_count": 64,
   "id": "b1084bd7",
   "metadata": {},
   "outputs": [],
   "source": [
    "submit['Credit Default'] = predictions"
   ]
  },
  {
   "cell_type": "code",
   "execution_count": 65,
   "id": "ab45301f",
   "metadata": {},
   "outputs": [],
   "source": [
    "submit.to_csv('final_submit.csv', encoding='utf-8', index=False)"
   ]
  },
  {
   "cell_type": "code",
   "execution_count": null,
   "id": "cb8d8248",
   "metadata": {},
   "outputs": [],
   "source": []
  }
 ],
 "metadata": {
  "kernelspec": {
   "display_name": "Python 3 (ipykernel)",
   "language": "python",
   "name": "python3"
  },
  "language_info": {
   "codemirror_mode": {
    "name": "ipython",
    "version": 3
   },
   "file_extension": ".py",
   "mimetype": "text/x-python",
   "name": "python",
   "nbconvert_exporter": "python",
   "pygments_lexer": "ipython3",
   "version": "3.9.6"
  }
 },
 "nbformat": 4,
 "nbformat_minor": 5
}
